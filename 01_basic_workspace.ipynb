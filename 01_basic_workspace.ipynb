{
 "cells": [
  {
   "cell_type": "code",
   "execution_count": 0,
   "metadata": {
    "application/vnd.databricks.v1+cell": {
     "cellMetadata": {
      "byteLimit": 2048000,
      "implicitDf": true,
      "rowLimit": 10000
     },
     "collapsed": true,
     "inputWidgets": {},
     "nuid": "e2a6ab45-3ad0-4369-b01a-ab5d65aa9211",
     "showTitle": false,
     "tableResultSettingsMap": {},
     "title": ""
    }
   },
   "outputs": [],
   "source": [
    "%sql SHOW CATALOGS"
   ]
  },
  {
   "cell_type": "code",
   "execution_count": 0,
   "metadata": {
    "application/vnd.databricks.v1+cell": {
     "cellMetadata": {
      "byteLimit": 2048000,
      "rowLimit": 10000
     },
     "inputWidgets": {},
     "nuid": "a2b568d7-f54f-4eb2-a5eb-7ccd3384dc77",
     "showTitle": false,
     "tableResultSettingsMap": {},
     "title": ""
    }
   },
   "outputs": [],
   "source": [
    "# Detect if Unity Catalog is enabled\n",
    "# Robust: works whether the column is 'catalog' or 'catalog_name'\n",
    "df = spark.sql(\"SHOW CATALOGS\")\n",
    "first_col = df.columns[0]          # e.g., 'catalog' or 'catalog_name'\n",
    "catalogs = [row[first_col] for row in df.collect()]\n",
    "print(catalogs)\n",
    "\n",
    "\n",
    "\n",
    "\n",
    "if \"main\" in catalogs:   # Unity Catalog\n",
    "    USE_CATALOG = \"main\"\n",
    "    db_name = \"demo\"\n",
    "    full_db_name = f\"{USE_CATALOG}.{db_name}\"\n",
    "    print(f\"Unity Catalog detected ✅ - using {full_db_name}\")\n",
    "else:                    # Hive metastore only\n",
    "    USE_CATALOG = None\n",
    "    db_name = \"demo\"\n",
    "    full_db_name = db_name\n",
    "    print(f\"Hive metastore detected ⚠️ - using {full_db_name}\")\n"
   ]
  },
  {
   "cell_type": "code",
   "execution_count": 0,
   "metadata": {
    "application/vnd.databricks.v1+cell": {
     "cellMetadata": {
      "byteLimit": 2048000,
      "rowLimit": 10000
     },
     "inputWidgets": {},
     "nuid": "a6fd0d4c-b658-46d9-84ed-38b145cce557",
     "showTitle": false,
     "tableResultSettingsMap": {},
     "title": ""
    }
   },
   "outputs": [],
   "source": [
    "# Create (or use) a database named 'demo'\n",
    "spark.sql(\"CREATE DATABASE IF NOT EXISTS demo\")\n",
    "spark.sql(\"USE demo\")\n",
    "\n",
    "# Create a tiny DataFrame and save it as a Delta table in Hive metastore\n",
    "data = [(1, \"Alice\"), (2, \"Bob\"), (3, \"Carlos\")]\n",
    "df = spark.createDataFrame(data, [\"id\", \"name\"])\n",
    "df.write.mode(\"overwrite\").format(\"delta\").saveAsTable(\"demo.hello_spark\")\n",
    "\n",
    "# Query it back\n",
    "display(spark.table(\"demo.hello_spark\"))\n",
    "\n",
    "# Make an update so you can show Delta history/time travel\n",
    "spark.sql(\"UPDATE demo.hello_spark SET name = 'Bobby' WHERE id = 2\")\n",
    "display(spark.sql(\"DESCRIBE HISTORY demo.hello_spark\").select(\"version\",\"operation\",\"timestamp\"))\n"
   ]
  },
  {
   "cell_type": "code",
   "execution_count": 0,
   "metadata": {
    "application/vnd.databricks.v1+cell": {
     "cellMetadata": {
      "byteLimit": 2048000,
      "rowLimit": 10000
     },
     "inputWidgets": {},
     "nuid": "30ea2954-ecb7-4885-9513-5a3ece8b679c",
     "showTitle": false,
     "tableResultSettingsMap": {},
     "title": ""
    }
   },
   "outputs": [],
   "source": [
    "spark.sql(\"USE demo\")\n",
    "display(spark.sql(\"SELECT id, name FROM hello_spark ORDER BY id\"))\n"
   ]
  },
  {
   "cell_type": "code",
   "execution_count": 0,
   "metadata": {
    "application/vnd.databricks.v1+cell": {
     "cellMetadata": {
      "byteLimit": 2048000,
      "implicitDf": true,
      "rowLimit": 10000
     },
     "inputWidgets": {},
     "nuid": "549b1e83-50c9-4d08-bde8-c7baeffe0b62",
     "showTitle": false,
     "tableResultSettingsMap": {},
     "title": ""
    }
   },
   "outputs": [],
   "source": [
    "%sql\n",
    "USE demo;\n",
    "SELECT id, name\n",
    "FROM hello_spark\n",
    "ORDER BY id;\n"
   ]
  }
 ],
 "metadata": {
  "application/vnd.databricks.v1+notebook": {
   "computePreferences": null,
   "dashboards": [],
   "environmentMetadata": {
    "base_environment": "",
    "environment_version": "3"
   },
   "inputWidgetPreferences": null,
   "language": "python",
   "notebookMetadata": {
    "mostRecentlyExecutedCommandWithImplicitDF": {
     "commandId": 5024777486446597,
     "dataframes": [
      "_sqldf"
     ]
    },
    "pythonIndentUnit": 4
   },
   "notebookName": "01_basic_workspace",
   "widgets": {}
  },
  "language_info": {
   "name": "python"
  }
 },
 "nbformat": 4,
 "nbformat_minor": 0
}
