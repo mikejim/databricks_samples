{
 "cells": [
  {
   "cell_type": "markdown",
   "metadata": {
    "application/vnd.databricks.v1+cell": {
     "cellMetadata": {},
     "inputWidgets": {},
     "nuid": "2c8ebb57-0ad7-4013-a97c-f51dda0b7ce2",
     "showTitle": false,
     "tableResultSettingsMap": {},
     "title": ""
    }
   },
   "source": [
    "### This is a toy example of how a medallion architecture works"
   ]
  },
  {
   "cell_type": "code",
   "execution_count": 0,
   "metadata": {
    "application/vnd.databricks.v1+cell": {
     "cellMetadata": {
      "byteLimit": 2048000,
      "rowLimit": 10000
     },
     "inputWidgets": {},
     "nuid": "c316f845-4d22-471e-aed4-c6a4b22af548",
     "showTitle": false,
     "tableResultSettingsMap": {},
     "title": ""
    }
   },
   "outputs": [],
   "source": [
    "spark.sql(\"CREATE DATABASE IF NOT EXISTS demo\")\n",
    "spark.sql(\"USE demo\")\n",
    "\n",
    "# Clean up if rerunning the notebook (safe to skip on first run)\n",
    "for t in [\"orders_bronze\",\"orders_silver\",\"orders_gold\",\"v_orders_silver\"]:\n",
    "    spark.sql(f\"DROP VIEW IF EXISTS demo.{t}\") if t.startswith(\"v_\") else spark.sql(f\"DROP TABLE IF EXISTS demo.{t}\")\n"
   ]
  },
  {
   "cell_type": "code",
   "execution_count": 0,
   "metadata": {
    "application/vnd.databricks.v1+cell": {
     "cellMetadata": {
      "byteLimit": 2048000,
      "rowLimit": 10000
     },
     "inputWidgets": {},
     "nuid": "c639bc4c-eea4-4c43-911c-66a153a100b3",
     "showTitle": false,
     "tableResultSettingsMap": {},
     "title": ""
    }
   },
   "outputs": [],
   "source": [
    "from pyspark.sql.functions import current_timestamp\n",
    "\n",
    "raw = [\n",
    "    # order_id, ts (ISO string), customer_id, item, qty, price, status\n",
    "    (1001, \"2025-01-05T10:15:00\",  7, \"widget\", 1, 19.99, \"NEW\"),\n",
    "    (1002, \"2025-01-05T11:20:00\", 11, \"gizmo\",  2,  9.50, \"NEW\"),\n",
    "    (1003, \"2025-01-05T12:05:00\",  7, \"widget\", 1, 19.99, \"NEW\"),\n",
    "    (1002, \"2025-01-05T11:25:00\", 11, \"gizmo\",  2,  9.50, \"NEW\"),  # duplicate order_id (late duplicate)\n",
    "    (1004, \"2025-01-06T09:10:00\",  8, \"doodad\", 3,  4.25, \"CANCELLED\")\n",
    "]\n",
    "df_raw = spark.createDataFrame(raw, [\"order_id\",\"ts\",\"customer_id\",\"item\",\"qty\",\"price\",\"status\"]) \\\n",
    "              .withColumn(\"_ingest_ts\", current_timestamp())\n",
    "display(df_raw)\n"
   ]
  },
  {
   "cell_type": "markdown",
   "metadata": {
    "application/vnd.databricks.v1+cell": {
     "cellMetadata": {},
     "inputWidgets": {},
     "nuid": "ff22aeff-f42a-4093-af96-05d5b322b6f9",
     "showTitle": false,
     "tableResultSettingsMap": {},
     "title": ""
    }
   },
   "source": [
    "**Bronze**"
   ]
  },
  {
   "cell_type": "code",
   "execution_count": 0,
   "metadata": {
    "application/vnd.databricks.v1+cell": {
     "cellMetadata": {
      "byteLimit": 2048000,
      "rowLimit": 10000
     },
     "inputWidgets": {},
     "nuid": "a089ab4d-74fb-4d6f-9a9d-e302ddf3b64a",
     "showTitle": false,
     "tableResultSettingsMap": {},
     "title": ""
    }
   },
   "outputs": [],
   "source": [
    "# Persist as a Delta table (raw structure preserved)\n",
    "df_raw.write.mode(\"overwrite\").format(\"delta\").saveAsTable(\"demo.orders_bronze\")\n",
    "\n",
    "# Peek\n",
    "display(spark.table(\"demo.orders_bronze\"))\n"
   ]
  },
  {
   "cell_type": "markdown",
   "metadata": {
    "application/vnd.databricks.v1+cell": {
     "cellMetadata": {},
     "inputWidgets": {},
     "nuid": "76a889f5-6ebe-49e7-9039-d2e3b37b5e52",
     "showTitle": false,
     "tableResultSettingsMap": {},
     "title": ""
    }
   },
   "source": [
    "**Silver**"
   ]
  },
  {
   "cell_type": "code",
   "execution_count": 0,
   "metadata": {
    "application/vnd.databricks.v1+cell": {
     "cellMetadata": {
      "byteLimit": 2048000,
      "rowLimit": 10000
     },
     "inputWidgets": {},
     "nuid": "ae4be18c-4f78-4c29-9577-573a88e0f832",
     "showTitle": false,
     "tableResultSettingsMap": {},
     "title": ""
    }
   },
   "outputs": [],
   "source": [
    "# Use SQL for readability in class\n",
    "spark.sql(\"\"\"\n",
    "CREATE OR REPLACE TABLE demo.orders_silver AS\n",
    "WITH typed AS (\n",
    "  SELECT\n",
    "    CAST(order_id AS INT)        AS order_id,\n",
    "    TO_TIMESTAMP(ts)             AS ts,\n",
    "    CAST(customer_id AS INT)     AS customer_id,\n",
    "    CAST(item AS STRING)         AS item,\n",
    "    CAST(qty AS INT)             AS qty,\n",
    "    CAST(price AS DOUBLE)        AS price,\n",
    "    UPPER(status)                AS status,\n",
    "    _ingest_ts\n",
    "  FROM demo.orders_bronze\n",
    "),\n",
    "dedup AS (\n",
    "  SELECT *\n",
    "  FROM (\n",
    "    SELECT\n",
    "      t.*,\n",
    "      ROW_NUMBER() OVER (PARTITION BY order_id ORDER BY ts DESC, _ingest_ts DESC) AS rn\n",
    "    FROM typed t\n",
    "  )\n",
    "  WHERE rn = 1    -- keep latest record per order_id\n",
    ")\n",
    "SELECT order_id, ts, customer_id, item, qty, price, status\n",
    "FROM dedup\n",
    "\"\"\")\n",
    "\n",
    "display(spark.table(\"demo.orders_silver\").orderBy(\"ts\"))\n"
   ]
  },
  {
   "cell_type": "markdown",
   "metadata": {
    "application/vnd.databricks.v1+cell": {
     "cellMetadata": {},
     "inputWidgets": {},
     "nuid": "89eb6823-b93f-42c1-8b3c-b47259c6c228",
     "showTitle": false,
     "tableResultSettingsMap": {},
     "title": ""
    }
   },
   "source": [
    "****Gold stage****"
   ]
  },
  {
   "cell_type": "code",
   "execution_count": 0,
   "metadata": {
    "application/vnd.databricks.v1+cell": {
     "cellMetadata": {
      "byteLimit": 2048000,
      "rowLimit": 10000
     },
     "inputWidgets": {},
     "nuid": "9939baa5-783a-429a-ab54-332ab13866c6",
     "showTitle": false,
     "tableResultSettingsMap": {},
     "title": ""
    }
   },
   "outputs": [],
   "source": [
    "# Temp view (session-scoped; disappears when cluster detaches/restarts)\n",
    "spark.table(\"demo.orders_silver\").createOrReplaceTempView(\"v_orders_tmp\")\n",
    "\n",
    "# Permanent view (stored in metastore)\n",
    "spark.sql(\"\"\"\n",
    "CREATE OR REPLACE VIEW demo.v_orders_silver AS\n",
    "SELECT order_id, ts, customer_id, item, qty, price\n",
    "FROM demo.orders_silver\n",
    "\"\"\")\n",
    "\n",
    "print(\"Temp views you can query in *this* notebook session: v_orders_tmp\")\n"
   ]
  },
  {
   "cell_type": "code",
   "execution_count": 0,
   "metadata": {
    "application/vnd.databricks.v1+cell": {
     "cellMetadata": {
      "byteLimit": 2048000,
      "implicitDf": true,
      "rowLimit": 10000
     },
     "inputWidgets": {},
     "nuid": "41d8fa39-a681-4de5-9dcd-d5da40b78d4c",
     "showTitle": false,
     "tableResultSettingsMap": {},
     "title": ""
    }
   },
   "outputs": [],
   "source": [
    "%sql\n",
    "-- Query permanent view (metastore object)\n",
    "SELECT * FROM demo.v_orders_silver ORDER BY ts;\n"
   ]
  }
 ],
 "metadata": {
  "application/vnd.databricks.v1+notebook": {
   "computePreferences": null,
   "dashboards": [],
   "environmentMetadata": {
    "base_environment": "",
    "environment_version": "3"
   },
   "inputWidgetPreferences": null,
   "language": "python",
   "notebookMetadata": {
    "mostRecentlyExecutedCommandWithImplicitDF": {
     "commandId": 5024777486446605,
     "dataframes": [
      "_sqldf"
     ]
    },
    "pythonIndentUnit": 4
   },
   "notebookName": "02_Medallion_pattern",
   "widgets": {}
  },
  "language_info": {
   "name": "python"
  }
 },
 "nbformat": 4,
 "nbformat_minor": 0
}
